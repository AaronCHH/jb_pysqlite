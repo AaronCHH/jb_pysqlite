{
 "cells": [
  {
   "cell_type": "markdown",
   "metadata": {},
   "source": [
    "# Ch14 網路爬蟲"
   ]
  },
  {
   "cell_type": "markdown",
   "metadata": {},
   "source": [
    "## htmlparse01.py"
   ]
  },
  {
   "cell_type": "code",
   "execution_count": null,
   "metadata": {},
   "outputs": [],
   "source": [
    "# %load htmlparse01.py\n",
    "import requests\n",
    "\n",
    "urlstr = \"http://www.drmaster.com.tw/Publish_Newbook.asp\"\n",
    "response = requests.get(urlstr)\n",
    "\n",
    "print(\"網址：%s\" % (response.url))\n",
    "print(\"狀態：%s\" % (response.status_code))\n",
    "print(\"表頭：%s\" % (response.headers))"
   ]
  },
  {
   "cell_type": "markdown",
   "metadata": {},
   "source": [
    "## htmlparse02.py"
   ]
  },
  {
   "cell_type": "code",
   "execution_count": null,
   "metadata": {},
   "outputs": [],
   "source": [
    "# %load htmlparse02.py\n",
    "import requests\n",
    "urlstr = \"http://www.drmaster.com.tw/Publish_Newbook.asp\"\n",
    "response = requests.get(urlstr)\n",
    "response.encoding = \"utf-8\"\n",
    "print(\"網頁程式碼：%s\" % (response.text))"
   ]
  },
  {
   "cell_type": "markdown",
   "metadata": {},
   "source": [
    "## htmlparse03.py"
   ]
  },
  {
   "cell_type": "code",
   "execution_count": null,
   "metadata": {},
   "outputs": [],
   "source": [
    "# %load htmlparse03.py\n",
    "import requests\n",
    "# 指定圖片網址\n",
    "imgUrl = 'http://www.drmaster.com.tw/Cover/MP22030.png'\n",
    "imgName = imgUrl.split('/')[-1]\n",
    "response = requests.get(imgUrl)\n",
    "f = open(imgName, 'wb')  # 指定開啟檔案路徑\n",
    "# 將response.content二進位內容寫入為MP22030.png\n",
    "f.write(response.content)\n",
    "print('%s 下載完畢' % (imgName))\n",
    "f.close()"
   ]
  },
  {
   "cell_type": "markdown",
   "metadata": {},
   "source": [
    "## htmlparse04.py\n"
   ]
  },
  {
   "cell_type": "code",
   "execution_count": null,
   "metadata": {},
   "outputs": [],
   "source": [
    "# %load htmlparse04.py\n",
    "import requests\n",
    "from bs4 import BeautifulSoup\n",
    "# 博碩文化新書網頁\n",
    "urlstr = 'http://www.drmaster.com.tw/Publish_Newbook.asp'\n",
    "response = requests.get(urlstr)\n",
    "response.encoding = \"utf-8\"\n",
    "bs = BeautifulSoup(response.text, 'html.parser')\n",
    "print(bs.title.text)  # 顯示網頁title標題\n",
    "listBookName = bs.select('.style2')\n",
    "count = len(listBookName)\n",
    "print(\"共 %d 筆新書記錄\" % (count))  # 顯示 '共 20 筆新書記錄'\n",
    "\n",
    "# 顯示網頁新書書名\n",
    "for book in listBookName:\n",
    "  print(book.text)"
   ]
  },
  {
   "cell_type": "markdown",
   "metadata": {},
   "source": [
    "## htmlparse05.py"
   ]
  },
  {
   "cell_type": "code",
   "execution_count": null,
   "metadata": {},
   "outputs": [],
   "source": [
    "# %load htmlparse05.py\n",
    "import requests\n",
    "from bs4 import BeautifulSoup\n",
    "\n",
    "urlstr = 'http://www.drmaster.com.tw/Publish_Newbook.asp'\n",
    "\n",
    "response = requests.get(urlstr)\n",
    "response.encoding = \"utf-8\"\n",
    "bs = BeautifulSoup(response.text, 'html.parser')\n",
    "\n",
    "listImageUrl = bs.select('td a img')\n",
    "\n",
    "for link in listImageUrl:\n",
    "  #if(\"http\" in link.get('src')):\n",
    "  print(link.get('src'))"
   ]
  },
  {
   "cell_type": "markdown",
   "metadata": {},
   "source": [
    "## htmlparse06.py"
   ]
  },
  {
   "cell_type": "code",
   "execution_count": null,
   "metadata": {},
   "outputs": [],
   "source": [
    "# %load htmlparse06.py\n",
    "import os, shutil\n",
    "import requests\n",
    "from bs4 import BeautifulSoup\n",
    "\n",
    "# 若程式的路徑有images資料即刪除，否則即建立images\n",
    "folder = \"images\"\n",
    "if os.path.exists(folder):\n",
    "  shutil.rmtree(folder)\n",
    "os.mkdir(folder)\n",
    "\n",
    "urlstr = 'http://www.drmaster.com.tw/Publish_Newbook.asp'\n",
    "response = requests.get(urlstr)\n",
    "response.encoding = \"utf-8\"\n",
    "bs = BeautifulSoup(response.text, 'html.parser')\n",
    "listImageUrl = bs.select('td a img')\n",
    "# 逐一取得博碩新書圖檔並放入images資料夾下\n",
    "n = 0\n",
    "for link in listImageUrl:\n",
    "  imgUrl = link.get('src')\n",
    "  if (\"http\" in imgUrl):\n",
    "    imgName = imgUrl.split('/')[-1]\n",
    "    response = requests.get(imgUrl)\n",
    "    f = open(folder + '/' + imgName, 'wb')  # 指定開啟檔案路徑\n",
    "    # 將response.content二進位內容寫入指定的圖檔名稱\n",
    "    f.write(response.content)\n",
    "    f.close()\n",
    "    print(\"%s 下載完成\" % (imgName))\n",
    "    n += 1\n",
    "print('共下載 %d 張圖檔' % (n))"
   ]
  },
  {
   "cell_type": "markdown",
   "metadata": {},
   "source": [
    "## htmlparse07.py"
   ]
  },
  {
   "cell_type": "code",
   "execution_count": null,
   "metadata": {},
   "outputs": [],
   "source": [
    "# %load htmlparse07.py\n",
    "import os, shutil\n",
    "import requests\n",
    "from bs4 import BeautifulSoup\n",
    "\n",
    "# 若程式的路徑有images資料即刪除，否則即建立images\n",
    "folder = \"images\"\n",
    "if os.path.exists(folder):\n",
    "  shutil.rmtree(folder)\n",
    "os.mkdir(folder)\n",
    "pageName = 'newbook.html'\n",
    "if os.path.exists(pageName):\n",
    "  os.remove(pageName)\n",
    "\n",
    "urlstr = 'http://www.drmaster.com.tw/Publish_Newbook.asp'\n",
    "response = requests.get(urlstr)\n",
    "response.encoding = \"utf-8\"\n",
    "bs = BeautifulSoup(response.text, 'html.parser')\n",
    "listImageUrl = bs.select('td a img')\n",
    "listImageUrlOk = []\n",
    "listBookName = bs.select('.style2')\n",
    "# 逐一取得博碩新書圖檔並放入images資料夾下\n",
    "for link in listImageUrl:\n",
    "  imgUrl = link.get('src')\n",
    "  if (\"http\" in imgUrl):\n",
    "    imgName = imgUrl.split('/')[-1]\n",
    "    listImageUrlOk.append(imgName)\n",
    "    response = requests.get(imgUrl)\n",
    "    f = open(folder + '/' + imgName, 'wb')  # 指定開啟檔案路徑\n",
    "    # 將response.content二進位內容寫入指定的圖檔名稱\n",
    "    f.write(response.content)\n",
    "    f.close()\n",
    "    print(\"%s 下載完成\" % (imgName))\n",
    "\n",
    "f = open(pageName, 'w', encoding='utf-8')\n",
    "f.write('<html>\\n')\n",
    "f.write('<meta charset=\"utf-8\">\\n')\n",
    "f.write('<body>\\n')\n",
    "f.write('<table border>\\n')\n",
    "f.write('<tr><td>書號</td><td>圖</td><td>書名</td></tr>\\n')\n",
    "for n in range(len(listBookName)):\n",
    "  f.write('<tr>\\n')\n",
    "  f.write('<td>%s</td>\\n' % (listImageUrlOk[n].split('.')[0]))\n",
    "  f.write('<td><img src=\"images/%s\" width=\"100\"></td>\\n' % (listImageUrlOk[n]))\n",
    "  f.write('<td>%s</td>\\n' % (listBookName[n].text))\n",
    "  f.write('</tr>\\n')\n",
    "f.write('</table>\\n')\n",
    "f.write('</body>\\n')\n",
    "f.write('</html>\\n')\n",
    "f.close()\n",
    "os.system(pageName)\n",
    "print('%s 網頁建置成功' % (pageName))"
   ]
  }
 ],
 "metadata": {
  "kernelspec": {
   "display_name": "Python 3",
   "language": "python",
   "name": "python3"
  },
  "language_info": {
   "codemirror_mode": {
    "name": "ipython",
    "version": 3
   },
   "file_extension": ".py",
   "mimetype": "text/x-python",
   "name": "python",
   "nbconvert_exporter": "python",
   "pygments_lexer": "ipython3",
   "version": "3.8.3"
  },
  "toc": {
   "base_numbering": 1,
   "nav_menu": {},
   "number_sections": true,
   "sideBar": true,
   "skip_h1_title": false,
   "title_cell": "Table of Contents",
   "title_sidebar": "Contents",
   "toc_cell": false,
   "toc_position": {},
   "toc_section_display": true,
   "toc_window_display": false
  },
  "varInspector": {
   "cols": {
    "lenName": 16,
    "lenType": 16,
    "lenVar": 40
   },
   "kernels_config": {
    "python": {
     "delete_cmd_postfix": "",
     "delete_cmd_prefix": "del ",
     "library": "var_list.py",
     "varRefreshCmd": "print(var_dic_list())"
    },
    "r": {
     "delete_cmd_postfix": ") ",
     "delete_cmd_prefix": "rm(",
     "library": "var_list.r",
     "varRefreshCmd": "cat(var_dic_list()) "
    }
   },
   "types_to_exclude": [
    "module",
    "function",
    "builtin_function_or_method",
    "instance",
    "_Feature"
   ],
   "window_display": false
  }
 },
 "nbformat": 4,
 "nbformat_minor": 4
}