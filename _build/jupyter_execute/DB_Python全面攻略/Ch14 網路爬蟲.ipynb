{
 "cells": [
  {
   "cell_type": "markdown",
   "metadata": {},
   "source": [
    "# Ch14 網路爬蟲"
   ]
  },
  {
   "cell_type": "markdown",
   "metadata": {},
   "source": [
    "## htmlparse01.py"
   ]
  },
  {
   "cell_type": "code",
   "execution_count": 1,
   "metadata": {},
   "outputs": [
    {
     "name": "stdout",
     "output_type": "stream",
     "text": [
      "網址：http://www.drmaster.com.tw/Publish_Newbook.asp\n",
      "狀態：200\n",
      "表頭：{'Cache-Control': 'private', 'Content-Type': 'text/html', 'Server': 'Microsoft-IIS/8.5', 'Set-Cookie': 'ASPSESSIONIDAABDRDSS=OBEDCPPAOMBOHNDAODGIPJNP; path=/', 'X-Powered-By': 'ASP.NET', 'Date': 'Sun, 21 Feb 2021 11:16:52 GMT', 'Content-Length': '27768'}\n"
     ]
    }
   ],
   "source": [
    "# %load htmlparse01.py\n",
    "import requests\n",
    "\n",
    "urlstr = \"http://www.drmaster.com.tw/Publish_Newbook.asp\"\n",
    "response = requests.get(urlstr)\n",
    "\n",
    "print(\"網址：%s\" % (response.url))\n",
    "print(\"狀態：%s\" % (response.status_code))\n",
    "print(\"表頭：%s\" % (response.headers))"
   ]
  },
  {
   "cell_type": "markdown",
   "metadata": {},
   "source": [
    "## htmlparse02.py"
   ]
  },
  {
   "cell_type": "code",
   "execution_count": 2,
   "metadata": {},
   "outputs": [
    {
     "name": "stdout",
     "output_type": "stream",
     "text": [
      "網頁程式碼：\r\n",
      "<html>\r\n",
      "<head>\r\n",
      "<title>博碩文化股份有限公司</title>\r\n",
      "<meta http-equiv=\"Content-Type\" content=\"text/html; charset=utf-8\">\r\n",
      "<link href=\"drmaster.css\" rel=\"stylesheet\" type=\"text/css\">\r\n",
      "<link href=\"pagination.css\" rel=\"stylesheet\" type=\"text/css\" />\r\n",
      "<!-- Global site tag (gtag.js) - Google Analytics -->\r\n",
      "<script async src=\"https://www.googletagmanager.com/gtag/js?id=UA-135628433-1\"></script>\r\n",
      "<script>\r\n",
      "  window.dataLayer = window.dataLayer || [];\r\n",
      "  function gtag(){dataLayer.push(arguments);}\r\n",
      "  gtag('js', new Date());\r\n",
      "\r\n",
      "  gtag('config', 'UA-135628433-1');\r\n",
      "</script>\r\n",
      "\r\n",
      "</head>\r\n",
      "<body>\r\n",
      "\r\n",
      "<table width=\"1200\" border=\"0\" align=\"center\" cellpadding=\"0\" cellspacing=\"0\">\r\n",
      "  <tr>\r\n",
      "    <td valign=\"top\">\r\n",
      "    \r\n",
      "\t\r\n",
      "\r\n",
      "    <table width=\"1200\" border=\"0\" cellspacing=\"0\" cellpadding=\"0\">\r\n",
      "      <tr>\r\n",
      "        <td width=\"296\" height=\"70\"><a href=\"/index.asp\"><img src=\"images/index_01.jpg\" alt=\"回首頁\" width=\"296\" height=\"70\" border=\"0\"></a></td>\r\n",
      "        <td width=\"322\" background=\"images/index_02.jpg\">&nbsp;</td>\r\n",
      "        <td>\r\n",
      "        <table width=\"582\" border=\"0\" cellspacing=\"0\" cellpadding=\"0\">\r\n",
      "          <tr>\r\n",
      "            <td height=\"35\" colspan=\"4\" align=\"right\">\r\n",
      "            \r\n",
      "            <table width=\"450\" border=\"0\" cellpadding=\"0\" cellspacing=\"0\">\r\n",
      "            <form id=\"form2\" name=\"form2\" method=\"POST\" action=\"/Publish_Newbook.asp\">\r\n",
      "              <tr>\r\n",
      "                <td><font size=\"2\">帳號</font>\r\n",
      "                  <label>\r\n",
      "                  <input name=\"account\" type=\"text\" id=\"account\" size=\"10\" />\r\n",
      "                </label></td>\r\n",
      "                <td><label><font size=\"2\">密碼</font>\r\n",
      "                    <input name=\"password\" type=\"password\" id=\"password\" size=\"10\" />\r\n",
      "</label></td>\r\n",
      "                <td><div align=\"right\">\r\n",
      "                  <input type=\"image\" name=\"imageField\" id=\"imageField\" src=\"images/Login.gif\" />\r\n",
      "                </div></td>\r\n",
      "                <td width=40><div align=\"right\"><font size=\"2\"><a href=\"Register.asp\">註冊</a></font></div></td>\r\n",
      "                <td width=60><div align=\"right\"><font size=\"2\"><a href=\"ForgotPassword.asp\">忘記密碼</a></font></div></td>\r\n",
      "              </tr>\r\n",
      "            </form>\r\n",
      "            </table>\r\n",
      "            \r\n",
      "            </td>\r\n",
      "          </tr>\r\n",
      "            <form id=\"form1\" name=\"form1\" method=\"post\" action=\"Publish_Search.asp\">\r\n",
      "          <tr>\r\n",
      "            <td width=\"290\" align=\"right\">&nbsp;</td>\r\n",
      "            <td height=\"35\" align=\"right\">\r\n",
      "              <select name=\"selectID\" id=\"selectID\">\r\n",
      "                <option value=\"1\">書名</option>\r\n",
      "                <option value=\"2\">書號</option>\r\n",
      "                <option value=\"3\">作者</option>\r\n",
      "                <option value=\"4\">ISBN</option>\r\n",
      "              </select>            </td>\r\n",
      "            <td align=\"right\"><input class=\"searchinptxt\" name=\"content\" type=\"text\" id=\"content\" size=\"20\" placeholder=\"請先選擇想搜尋的類型\" /></td>\r\n",
      "            <td align=\"right\"><input type=\"image\" src=\"images/search_bnt.gif\" name=\"button\" id=\"button\" value=\"搜尋\" /></td>\r\n",
      "          </tr>\r\n",
      "          </form>\r\n",
      "        </table>\r\n",
      "        </td>\r\n",
      "      </tr>\r\n",
      "    </table>\r\n",
      "\r\n",
      "    </td>\r\n",
      "  </tr>\r\n",
      "  <tr>\r\n",
      "  <td>\r\n",
      "\t<script type=\"text/javascript\">\r\n",
      "<!--\r\n",
      "function MM_swapImgRestore() { //v3.0\r\n",
      "  var i,x,a=document.MM_sr; for(i=0;a&&i<a.length&&(x=a[i])&&x.oSrc;i++) x.src=x.oSrc;\r\n",
      "}\r\n",
      "function MM_preloadImages() { //v3.0\r\n",
      "  var d=document; if(d.images){ if(!d.MM_p) d.MM_p=new Array();\r\n",
      "    var i,j=d.MM_p.length,a=MM_preloadImages.arguments; for(i=0; i<a.length; i++)\r\n",
      "    if (a[i].indexOf(\"#\")!=0){ d.MM_p[j]=new Image; d.MM_p[j++].src=a[i];}}\r\n",
      "}\r\n",
      "\r\n",
      "function MM_findObj(n, d) { //v4.01\r\n",
      "  var p,i,x;  if(!d) d=document; if((p=n.indexOf(\"?\"))>0&&parent.frames.length) {\r\n",
      "    d=parent.frames[n.substring(p+1)].document; n=n.substring(0,p);}\r\n",
      "  if(!(x=d[n])&&d.all) x=d.all[n]; for (i=0;!x&&i<d.forms.length;i++) x=d.forms[i][n];\r\n",
      "  for(i=0;!x&&d.layers&&i<d.layers.length;i++) x=MM_findObj(n,d.layers[i].document);\r\n",
      "  if(!x && d.getElementById) x=d.getElementById(n); return x;\r\n",
      "}\r\n",
      "\r\n",
      "function MM_swapImage() { //v3.0\r\n",
      "  var i,j=0,x,a=MM_swapImage.arguments; document.MM_sr=new Array; for(i=0;i<(a.length-2);i+=3)\r\n",
      "   if ((x=MM_findObj(a[i]))!=null){document.MM_sr[j++]=x; if(!x.oSrc) x.oSrc=x.src; x.src=a[i+2];}\r\n",
      "}\r\n",
      "//-->\r\n",
      "</script>\r\n",
      "<body onLoad=\"MM_preloadImages('images/TopMenu-Blue-01.jpg','images/TopMenu-Blue-02.jpg','images/TopMenu-Blue-03.jpg','images/TopMenu-Blue-05.jpg','images/TopMenu-Blue-08.jpg','images/TopMenu-Blue-09.jpg','images/TopMenu-Blue-10.jpg','images/TopMenu-Blue-11.jpg')\">  \t\r\n",
      "<table width=\"100%\" border=\"0\" cellpadding=\"0\" cellspacing=\"0\">\r\n",
      "<tr>\r\n",
      "        <td width=\"121\"><a href=\"DrMaster_AboutDrMaster.asp\" onMouseOut=\"MM_swapImgRestore()\" onMouseOver=\"MM_swapImage('Image1','','images/TopMenu-Blue-01.jpg',1)\"><img src=\"images/TopMenu-Gray-01.jpg\" alt=\"關於博碩\" name=\"Image1\" width=\"121\" height=\"49\" border=\"0\" id=\"Image1\" /></a></td>\r\n",
      "    <td width=\"121\"><a href=\"Publish_Newbook.asp\" onMouseOut=\"MM_swapImgRestore()\" onMouseOver=\"MM_swapImage('Image2','','images/TopMenu-Blue-02.jpg',1)\"><img src=\"images/TopMenu-Gray-02.jpg\" alt=\"博碩好讀\" name=\"Image2\" width=\"121\" height=\"49\" border=\"0\" id=\"Image2\" /></a></td>\r\n",
      "    <td width=\"121\"><a href=\"School_Newbook.asp\" onMouseOut=\"MM_swapImgRestore()\" onMouseOver=\"MM_swapImage('Image3','','images/TopMenu-Blue-03.jpg',1)\"><img src=\"images/TopMenu-Gray-03.jpg\" alt=\"校園圖書\" name=\"Image3\" width=\"121\" height=\"49\" border=\"0\" id=\"Image3\" /></a></td>\r\n",
      "<!--    <td><a href=\"SchoolSoft_NewProduct.asp\" onMouseOut=\"MM_swapImgRestore()\" onMouseOver=\"MM_swapImage('Image4','','images/TopMenu-Blue-04.jpg',1)\"><img src=\"images/TopMenu-Gray-04.jpg\" alt=\"校園軟體\" name=\"Image4\" width=\"117\" height=\"49\" border=\"0\" id=\"Image4\" /></a></td> -->\r\n",
      "    <td width=\"121\"><a href=\"MOCC_Aboutwhat.asp\" onMouseOut=\"MM_swapImgRestore()\" onMouseOver=\"MM_swapImage('Image5','','images/TopMenu-Blue-05.jpg',1)\"><img src=\"images/TopMenu-Gray-05.jpg\" alt=\"MOCC認證\" name=\"Image5\" width=\"121\" height=\"49\" border=\"0\" id=\"Image5\" /></a></td>\r\n",
      "    <!--<td width=\"121\"><a href=\"SSE_About.asp\" onMouseOut=\"MM_swapImgRestore()\" onMouseOver=\"MM_swapImage('Image11','','images/TopMenu-Blue-11.jpg',1)\"><img src=\"images/TopMenu-Gray-11.jpg\" alt=\"SSE認證\" name=\"Image11\" width=\"121\" height=\"49\" border=\"0\" id=\"Image11\" /></a></td>-->\r\n",
      "    <td width=\"121\"><a href=\"howtodownload.asp\" onMouseOver=\"MM_swapImage('Image10','','images/TopMenu-Blue-10.jpg',1)\" onMouseOut=\"MM_swapImgRestore()\"><img src=\"images/TopMenu-Gray-10.jpg\" alt=\"下載教學\" name=\"Image6\" width=\"121\" height=\"49\" border=\"0\" id=\"Image10\" /></a></td>\r\n",
      "\t<td width=\"121\"><a href=\"https://www.drmaster.net/software/\" onMouseOut=\"MM_swapImgRestore()\" onMouseOver=\"MM_swapImage('Image8','','images/TopMenu-Blue-08.jpg',1)\"><img src=\"images/TopMenu-Gray-08.jpg\" alt=\"博碩教育雲\" name=\"Image8\" width=\"121\" height=\"49\" border=\"0\" id=\"Image8\" /></a></td>\r\n",
      "\t<td width=\"121\"><a href=\"https://www.drmaster.net/edu/\" onMouseOut=\"MM_swapImgRestore()\" onMouseOver=\"MM_swapImage('Image9','','images/TopMenu-Blue-09.jpg',1)\"><img src=\"images/TopMenu-Gray-09.jpg\" alt=\"數位學院\" name=\"Image9\" width=\"121\" height=\"49\" border=\"0\" id=\"Image9\" /></a></td>\r\n",
      "<td align=\"right\"><a href=\"http://www.drmaster.com.tw/download/DrMaster BooksList_New.xls\" ><font color = \"red\">最新書單(歡迎下載)</font></a></td>  \r\n",
      "</tr>\r\n",
      "</table>\r\n",
      "    </td>\r\n",
      "</tr>\r\n",
      "    </table>\r\n",
      "<table width=\"100%\" border=\"0\" cellspacing=\"0\" cellpadding=\"0\">\r\n",
      "  <tr>\r\n",
      "    <td height=\"10\" background=\"images/Gray_Line.jpg\"></td>\r\n",
      "  </tr>\r\n",
      "</table>\r\n",
      "<BR>\r\n",
      "<table width=\"1200\" border=\"0\" align=\"center\" cellpadding=\"0\" cellspacing=\"0\">\r\n",
      "  <tr>\r\n",
      "    <td width=\"230\" valign=\"top\"><table width=\"178\" border=\"0\" cellpadding=\"0\" cellspacing=\"0\">\r\n",
      "  <tr>\r\n",
      "    <td width=\"8\" height=\"8\" background=\"images/LeftMenu_01.gif\"></td>\r\n",
      "    <td width=\"162\" background=\"images/LeftMenu_02.gif\"></td>\r\n",
      "    <td width=\"8\" height=\"8\" background=\"images/LeftMenu_03.gif\"></td>\r\n",
      "  </tr>\r\n",
      "  <tr>\r\n",
      "    <td height=\"51\" background=\"images/LeftMenu_04.gif\"></td>\r\n",
      "    <td><img src=\"images/LeftMenu_DrMasterGoodRead.gif\" width=\"162\" height=\"51\" alt=\"博碩好讀\" /></td>\r\n",
      "    <td background=\"images/LeftMenu_06.gif\"></td>\r\n",
      "  </tr>\r\n",
      "  <tr>\r\n",
      "    <td background=\"images/LeftMenu_07.gif\"></td>\r\n",
      "    <td valign=\"top\"><table width=\"100%\" border=\"0\" align=\"center\" cellpadding=\"0\" cellspacing=\"0\">\r\n",
      "\r\n",
      "      <tr>\r\n",
      "        <td width=\"5\" height=\"40\">&nbsp;</td>\r\n",
      "        <td class='blueoff' onmouseover=javascript:this.className='blueon01' onmouseout=javascript:this.className='blueoff' height=\"40\"><a href=\"Publish_Newbook.asp\">新書推薦</a></td>\r\n",
      "      </tr>\r\n",
      "      <tr>\r\n",
      "        <td height=\"40\">&nbsp;</td>\r\n",
      "        <td class='blueoff' onmouseover=javascript:this.className='blueon01' onmouseout=javascript:this.className='blueoff' height=\"40\"><a href=\"Publish_Preview.asp\">出版預告</a></td>\r\n",
      "      </tr>\r\n",
      "      <tr>\r\n",
      "        <td height=\"40\">&nbsp;</td>\r\n",
      "        <td class='blueoff' onmouseover=javascript:this.className='blueon01' onmouseout=javascript:this.className='blueoff' height=\"40\"><a href=\"Publish_Masterpiece.asp\">名家名著</a></td>\r\n",
      "      </tr>\r\n",
      "      <tr>\r\n",
      "        <td height=\"40\">&nbsp;</td>\r\n",
      "        <td class='blueoff' onmouseover=javascript:this.className='blueon01' onmouseout=javascript:this.className='blueoff' height=\"40\"><a href=\"Publish_ithelpfans.asp\">iT達人祕笈</a></td>\r\n",
      "      </tr>\r\n",
      "      <tr>\r\n",
      "        <td height=\"40\">&nbsp;</td>\r\n",
      "            \r\n",
      "          <td class='blueoff' onmouseover=javascript:this.className='blueon01' onmouseout=javascript:this.className='blueoff' height=\"40\"><p><a href=\"Publish_Index.asp\">分類索引</a></p>\r\n",
      "\r\n",
      "            \r\n",
      "          </td>\r\n",
      "      </tr>\r\n",
      "\t<tr>\r\n",
      "        <td height=\"40\">&nbsp;</td>\r\n",
      "            \r\n",
      "          <td class='blueoff' onmouseover=javascript:this.className='blueon01' onmouseout=javascript:this.className='blueoff' height=\"40\"><p><a href=\"Publish_AllBook.asp\">出版總覽</a></p>\r\n",
      "\r\n",
      "            \r\n",
      "          </td>\r\n",
      "      </tr>\r\n",
      "\t<tr>\r\n",
      "        <td height=\"40\">&nbsp;</td>\r\n",
      "            \r\n",
      "          <td class='blueoff' onmouseover=javascript:this.className='blueon01' onmouseout=javascript:this.className='blueoff' height=\"40\"><p><a href=\"Publish_Service.asp\">讀者服務</a></p>\r\n",
      "\r\n",
      "            \r\n",
      "          </td>\r\n",
      "      </tr>\r\n",
      "      \r\n",
      "      <tr>\r\n",
      "        <td height=\"40\">&nbsp;</td>\r\n",
      "        <td class='blueoff' onmouseover=javascript:this.className='blueon01' onmouseout=javascript:this.className='blueoff' height=\"40\"><a href=\"Publish_WantAuthor.asp\">徵求作者</a></td>\r\n",
      "      </tr>\r\n",
      "    </table></td>\r\n",
      "    <td background=\"images/LeftMenu_09.gif\"></td>\r\n",
      "  </tr>\r\n",
      "  <tr>\r\n",
      "    <td height=\"14\" background=\"images/LeftMenu_10.gif\"></td>\r\n",
      "    <td background=\"images/LeftMenu_11.gif\"></td>\r\n",
      "    <td background=\"images/LeftMenu_12.gif\"></td>\r\n",
      "  </tr>\r\n",
      "</table>\r\n",
      "</td>\r\n",
      "    <td width=\"970\">\r\n",
      "\r\n",
      "    <div align=\"center\"></div> \r\n",
      "\r\n",
      "    <table width=\"970\" height=\"200\" border=\"0\" cellpadding=\"0\" cellspacing=\"0\">\r\n",
      "      <tr>\r\n",
      "        <td width=\"49\" height=\"90\" background=\"images/table01_01.jpg\">&nbsp;</td>\r\n",
      "        <td width=\"857\" background=\"images/table01_02.jpg\">\r\n",
      "          <table width=\"80%\" border=\"0\" cellspacing=\"0\" cellpadding=\"0\">\r\n",
      "            <tr>\r\n",
      "              <td>\r\n",
      "                <a href=\"/index.asp\">首頁</a> &gt;&gt; 博碩好讀 >> 新書推薦</td>\r\n",
      "            </tr>\r\n",
      "          </table>          </td>\r\n",
      "        <td width=\"64\" background=\"images/table01_03.jpg\">&nbsp;</td>\r\n",
      "      </tr>\r\n",
      "      <tr>\r\n",
      "        <td background=\"images/table01_04.jpg\">&nbsp;</td>\r\n",
      "        <td><table width=\"100%\">\r\n",
      "          \r\n",
      "          <tr align=\"center\" valign=\"top\">\r\n",
      "            \r\n",
      "            <td><table width=\"160\" border=\"0\" cellspacing=\"10\">\r\n",
      "                  <tr>\r\n",
      "                      <td ><a href=\"bookinfo.asp?BookID=MP32104\"><img src=\"http://www.drmaster.com.tw/Cover/MP32104.png\" width=\"170\" height=\"230\" border=\"0\" ></a></td>\r\n",
      "                    </tr>\r\n",
      "              <tr>\r\n",
      "                <td class=\"style2\">Python程式設計實務-從入門到精通step by step</td>\r\n",
      "                  </tr>\r\n",
      "          \r\n",
      "                    </table></td>\r\n",
      "            \r\n",
      "            <td><table width=\"160\" border=\"0\" cellspacing=\"10\">\r\n",
      "                  <tr>\r\n",
      "                      <td ><a href=\"bookinfo.asp?BookID=MP12101\"><img src=\"http://www.drmaster.com.tw/Cover/MP12101.png\" width=\"170\" height=\"230\" border=\"0\" ></a></td>\r\n",
      "                    </tr>\r\n",
      "              <tr>\r\n",
      "                <td class=\"style2\">Scrum敏捷產品管理：打造客戶喜愛的產品</td>\r\n",
      "                  </tr>\r\n",
      "          \r\n",
      "                    </table></td>\r\n",
      "            \r\n",
      "            <td><table width=\"160\" border=\"0\" cellspacing=\"10\">\r\n",
      "                  <tr>\r\n",
      "                      <td ><a href=\"bookinfo.asp?BookID=MP22026\"><img src=\"http://www.drmaster.com.tw/Cover/MP22026.png\" width=\"170\" height=\"230\" border=\"0\" ></a></td>\r\n",
      "                    </tr>\r\n",
      "              <tr>\r\n",
      "                <td class=\"style2\">重新認識Vue.js：008天絕對看不完的Vue.js 3指南</td>\r\n",
      "                  </tr>\r\n",
      "          \r\n",
      "                    </table></td>\r\n",
      "            \r\n",
      "            <td><table width=\"160\" border=\"0\" cellspacing=\"10\">\r\n",
      "                  <tr>\r\n",
      "                      <td ><a href=\"bookinfo.asp?BookID=MP22110\"><img src=\"http://www.drmaster.com.tw/Cover/MP22110.png\" width=\"170\" height=\"230\" border=\"0\" ></a></td>\r\n",
      "                    </tr>\r\n",
      "              <tr>\r\n",
      "                <td class=\"style2\">一開始就學對 Android－Kotlin 與 MVVM 新架構</td>\r\n",
      "                  </tr>\r\n",
      "          \r\n",
      "                    </table></td>\r\n",
      "            \r\n",
      "          </tr>\r\n",
      "          \r\n",
      "          <tr align=\"center\" valign=\"top\">\r\n",
      "            \r\n",
      "            <td><table width=\"160\" border=\"0\" cellspacing=\"10\">\r\n",
      "                  <tr>\r\n",
      "                      <td ><a href=\"bookinfo.asp?BookID=MP22036\"><img src=\"http://www.drmaster.com.tw/Cover/MP22036.png\" width=\"170\" height=\"230\" border=\"0\" ></a></td>\r\n",
      "                    </tr>\r\n",
      "              <tr>\r\n",
      "                <td class=\"style2\">輕鬆學會Google TensorFlow 2人工智慧深度學習實作開發(第三版)</td>\r\n",
      "                  </tr>\r\n",
      "          \r\n",
      "                    </table></td>\r\n",
      "            \r\n",
      "            <td><table width=\"160\" border=\"0\" cellspacing=\"10\">\r\n",
      "                  <tr>\r\n",
      "                      <td ><a href=\"bookinfo.asp?BookID=MP22105\"><img src=\"http://www.drmaster.com.tw/Cover/MP22105.png\" width=\"170\" height=\"230\" border=\"0\" ></a></td>\r\n",
      "                    </tr>\r\n",
      "              <tr>\r\n",
      "                <td class=\"style2\">PHP網路爬蟲開發：入門到進階的爬蟲技術指南（iT邦幫忙鐵人賽系列書）</td>\r\n",
      "                  </tr>\r\n",
      "          \r\n",
      "                    </table></td>\r\n",
      "            \r\n",
      "            <td><table width=\"160\" border=\"0\" cellspacing=\"10\">\r\n",
      "                  <tr>\r\n",
      "                      <td ><a href=\"bookinfo.asp?BookID=MP12033\"><img src=\"http://www.drmaster.com.tw/Cover/MP12033.png\" width=\"170\" height=\"230\" border=\"0\" ></a></td>\r\n",
      "                    </tr>\r\n",
      "              <tr>\r\n",
      "                <td class=\"style2\">Kent Beck的測試驅動開發：案例導向的逐步解決之道</td>\r\n",
      "                  </tr>\r\n",
      "          \r\n",
      "                    </table></td>\r\n",
      "            \r\n",
      "            <td><table width=\"160\" border=\"0\" cellspacing=\"10\">\r\n",
      "                  <tr>\r\n",
      "                      <td ><a href=\"bookinfo.asp?BookID=MP32017\"><img src=\"http://www.drmaster.com.tw/Cover/MP32017.png\" width=\"170\" height=\"230\" border=\"0\" ></a></td>\r\n",
      "                    </tr>\r\n",
      "              <tr>\r\n",
      "                <td class=\"style2\">Python全面攻略：從程式新人到開發設計的快速學習</td>\r\n",
      "                  </tr>\r\n",
      "          \r\n",
      "                    </table></td>\r\n",
      "            \r\n",
      "          </tr>\r\n",
      "          \r\n",
      "          <tr align=\"center\" valign=\"top\">\r\n",
      "            \r\n",
      "            <td><table width=\"160\" border=\"0\" cellspacing=\"10\">\r\n",
      "                  <tr>\r\n",
      "                      <td ><a href=\"bookinfo.asp?BookID=MM32101\"><img src=\"http://www.drmaster.com.tw/Cover/MM32101.png\" width=\"170\" height=\"230\" border=\"0\" ></a></td>\r\n",
      "                    </tr>\r\n",
      "              <tr>\r\n",
      "                <td class=\"style2\">打造集客瘋潮的微電影行銷術：影音剪輯實戰×行動影音剪輯×特效處理×微電影實作×影音社群行銷 (暢銷回饋版)</td>\r\n",
      "                  </tr>\r\n",
      "          \r\n",
      "                    </table></td>\r\n",
      "            \r\n",
      "            <td><table width=\"160\" border=\"0\" cellspacing=\"10\">\r\n",
      "                  <tr>\r\n",
      "                      <td ><a href=\"bookinfo.asp?BookID=MP22108\"><img src=\"http://www.drmaster.com.tw/Cover/MP22108.png\" width=\"170\" height=\"230\" border=\"0\" ></a></td>\r\n",
      "                    </tr>\r\n",
      "              <tr>\r\n",
      "                <td class=\"style2\">APCS大學程式設計先修檢測：C語言超效解題致勝祕笈(暢銷回饋版)</td>\r\n",
      "                  </tr>\r\n",
      "          \r\n",
      "                    </table></td>\r\n",
      "            \r\n",
      "            <td><table width=\"160\" border=\"0\" cellspacing=\"10\">\r\n",
      "                  <tr>\r\n",
      "                      <td ><a href=\"bookinfo.asp?BookID=MM32001\"><img src=\"http://www.drmaster.com.tw/Cover/MM32001.png\" width=\"170\" height=\"230\" border=\"0\" ></a></td>\r\n",
      "                    </tr>\r\n",
      "              <tr>\r\n",
      "                <td class=\"style2\">PhotoShop影像處理設計</td>\r\n",
      "                  </tr>\r\n",
      "          \r\n",
      "                    </table></td>\r\n",
      "            \r\n",
      "            <td><table width=\"160\" border=\"0\" cellspacing=\"10\">\r\n",
      "                  <tr>\r\n",
      "                      <td ><a href=\"bookinfo.asp?BookID=MM32002\"><img src=\"http://www.drmaster.com.tw/Cover/MM32002.png\" width=\"170\" height=\"230\" border=\"0\" ></a></td>\r\n",
      "                    </tr>\r\n",
      "              <tr>\r\n",
      "                <td class=\"style2\">Illustrator向量圖形設計</td>\r\n",
      "                  </tr>\r\n",
      "          \r\n",
      "                    </table></td>\r\n",
      "            \r\n",
      "          </tr>\r\n",
      "          \r\n",
      "          <tr align=\"center\" valign=\"top\">\r\n",
      "            \r\n",
      "            <td><table width=\"160\" border=\"0\" cellspacing=\"10\">\r\n",
      "                  <tr>\r\n",
      "                      <td ><a href=\"bookinfo.asp?BookID=MP22028\"><img src=\"http://www.drmaster.com.tw/Cover/MP22028.png\" width=\"170\" height=\"230\" border=\"0\" ></a></td>\r\n",
      "                    </tr>\r\n",
      "              <tr>\r\n",
      "                <td class=\"style2\">C#程式設計從入門到專業(上)：完全剖析C#技術實務</td>\r\n",
      "                  </tr>\r\n",
      "          \r\n",
      "                    </table></td>\r\n",
      "            \r\n",
      "            <td><table width=\"160\" border=\"0\" cellspacing=\"10\">\r\n",
      "                  <tr>\r\n",
      "                      <td ><a href=\"bookinfo.asp?BookID=MP22029\"><img src=\"http://www.drmaster.com.tw/Cover/MP22029.png\" width=\"170\" height=\"230\" border=\"0\" ></a></td>\r\n",
      "                    </tr>\r\n",
      "              <tr>\r\n",
      "                <td class=\"style2\">C#程式設計從入門到專業(下)：職場C#進階應用技術</td>\r\n",
      "                  </tr>\r\n",
      "          \r\n",
      "                    </table></td>\r\n",
      "            \r\n",
      "            <td><table width=\"160\" border=\"0\" cellspacing=\"10\">\r\n",
      "                  <tr>\r\n",
      "                      <td ><a href=\"bookinfo.asp?BookID=MP32022\"><img src=\"http://www.drmaster.com.tw/Cover/MP32022.png\" width=\"170\" height=\"230\" border=\"0\" ></a></td>\r\n",
      "                    </tr>\r\n",
      "              <tr>\r\n",
      "                <td class=\"style2\">圖解資料結構－使用C++</td>\r\n",
      "                  </tr>\r\n",
      "          \r\n",
      "                    </table></td>\r\n",
      "            \r\n",
      "            <td><table width=\"160\" border=\"0\" cellspacing=\"10\">\r\n",
      "                  <tr>\r\n",
      "                      <td ><a href=\"bookinfo.asp?BookID=MI22005\"><img src=\"http://www.drmaster.com.tw/Cover/MI22005.png\" width=\"170\" height=\"230\" border=\"0\" ></a></td>\r\n",
      "                    </tr>\r\n",
      "              <tr>\r\n",
      "                <td class=\"style2\">視覺化社群行銷與SEO超級淘金術：使用Instagram與YouTube</td>\r\n",
      "                  </tr>\r\n",
      "          \r\n",
      "                    </table></td>\r\n",
      "            \r\n",
      "          </tr>\r\n",
      "          \r\n",
      "          <tr align=\"center\" valign=\"top\">\r\n",
      "            \r\n",
      "            <td><table width=\"160\" border=\"0\" cellspacing=\"10\">\r\n",
      "                  <tr>\r\n",
      "                      <td ><a href=\"bookinfo.asp?BookID=MP22040\"><img src=\"http://www.drmaster.com.tw/Cover/MP22040.png\" width=\"170\" height=\"230\" border=\"0\" ></a></td>\r\n",
      "                    </tr>\r\n",
      "              <tr>\r\n",
      "                <td class=\"style2\">LINE Bot by Python 全攻略：從Heroku到AWS跨平台實踐（iT邦幫忙鐵人賽系列書）</td>\r\n",
      "                  </tr>\r\n",
      "          \r\n",
      "                    </table></td>\r\n",
      "            \r\n",
      "            <td><table width=\"160\" border=\"0\" cellspacing=\"10\">\r\n",
      "                  <tr>\r\n",
      "                      <td ><a href=\"bookinfo.asp?BookID=MI22101\"><img src=\"http://www.drmaster.com.tw/Cover/MI22101.png\" width=\"170\" height=\"230\" border=\"0\" ></a></td>\r\n",
      "                    </tr>\r\n",
      "              <tr>\r\n",
      "                <td class=\"style2\">超強Google雲端應用：贏家必勝技能與行銷方程式(暢銷回饋版)</td>\r\n",
      "                  </tr>\r\n",
      "          \r\n",
      "                    </table></td>\r\n",
      "            \r\n",
      "            <td><table width=\"160\" border=\"0\" cellspacing=\"10\">\r\n",
      "                  <tr>\r\n",
      "                      <td ><a href=\"bookinfo.asp?BookID=MP12019\"><img src=\"http://www.drmaster.com.tw/Cover/MP12019.png\" width=\"170\" height=\"230\" border=\"0\" ></a></td>\r\n",
      "                    </tr>\r\n",
      "              <tr>\r\n",
      "                <td class=\"style2\">行動裝置深度學習</td>\r\n",
      "                  </tr>\r\n",
      "          \r\n",
      "                    </table></td>\r\n",
      "            \r\n",
      "            <td><table width=\"160\" border=\"0\" cellspacing=\"10\">\r\n",
      "                  <tr>\r\n",
      "                      <td ><a href=\"bookinfo.asp?BookID=MP22109\"><img src=\"http://www.drmaster.com.tw/Cover/MP22109.png\" width=\"170\" height=\"230\" border=\"0\" ></a></td>\r\n",
      "                    </tr>\r\n",
      "              <tr>\r\n",
      "                <td class=\"style2\">圖說演算法：使用C語言(暢銷回饋版)</td>\r\n",
      "                  </tr>\r\n",
      "          \r\n",
      "                    </table></td>\r\n",
      "            \r\n",
      "          </tr>\r\n",
      "          \r\n",
      "        </table>\r\n",
      "          <p>&nbsp;</p>\r\n",
      "                    <div class=\"pagination scott\">\r\n",
      "            第一頁 | 上一頁 | <A HREF=\"/Publish_Newbook.asp?offset=20\">下一頁</A> | <A HREF=\"/Publish_Newbook.asp?offset=-1\">最後一頁</A>\r\n",
      "          </div>&nbsp;\r\n",
      "          </td>\r\n",
      "        <td background=\"images/table01_06.jpg\">&nbsp;</td>\r\n",
      "      </tr>\r\n",
      "      <tr>\r\n",
      "        <td height=\"58\" background=\"images/table01_07.jpg\">&nbsp;</td>\r\n",
      "        <td background=\"images/table01_08.jpg\">&nbsp;</td>\r\n",
      "        <td background=\"images/table01_09.jpg\">&nbsp;</td>\r\n",
      "      </tr>\r\n",
      "    </table></td>\r\n",
      "  </tr>\r\n",
      "</table>\r\n",
      "<BR>\r\n",
      "<table width=\"1200\" border=\"0\" align=\"center\" cellpadding=\"0\" cellspacing=\"0\">\r\n",
      "  <tr>\r\n",
      "    <td valign=\"top\">\r\n",
      "<link href=\"SpryAssets/salescounter.css\" rel=\"stylesheet\" type=\"text/css\" />\r\n",
      "<table width=\"1200\" border=\"0\" cellpadding=\"0\" cellspacing=\"0\">\r\n",
      "  <tr class=\"bg-gradiant\">\r\n",
      "    <td colspan=\"3\">博碩文化客服信箱</td>\r\n",
      "  </tr>\r\n",
      "  <tr>\r\n",
      "    <td colspan=\"3\" >&nbsp;</td>\r\n",
      "  </tr>\r\n",
      "  <tr>\r\n",
      "    <td colspan=\"3\" align=\"center\" class=\"title01\">\r\n",
      "    \r\n",
      "    <p><!--<font size=\"+1\"><a href=\"mailto:drservice@drmaster.com.tw\">DrService@drmaster.com.tw</a></font><BR>或<BR>--><font size=\"+1\"><a href=\"mailto:dr26962869@gmail.com\">dr26962869@gmail.com</a></font></p>\r\n",
      "    </td>\r\n",
      "  </tr>\r\n",
      "  <tr>\r\n",
      "    <td colspan=\"3\" >&nbsp;</td>\r\n",
      "  </tr>\r\n",
      "  <tr class=\"bg-gradiant\">\r\n",
      "    <td colspan=\"3\">文教業務團隊</td>\r\n",
      "  </tr>\r\n",
      "  <tr>\r\n",
      "    <td width=\"500\">\r\n",
      "    <table width=\"100%\" class=\"title01\">\r\n",
      "      <tr>\r\n",
      "        <td colspan=\"2\">台北、新北、桃園、基隆、宜蘭、花蓮</td>\r\n",
      "      </tr>\r\n",
      "      <tr>\r\n",
      "        <td width=\"50%\"><font class=\"salesname\">郭 南 彤</font> <a href=\"images/contact/DrMaster_Tiger_LINE.jpg\" target=\"_blank\"><img src=\"images/contact/unnamed.png\" width=\"30\" height=\"30\" style=\"vertical-align:middle;\" /></a><br>LINE ID：<a href=\"https://line.me/ti/p/VCASdTKWTx\">rgtech101</a><br><a href=\"tel:+886-917727778\">0917-727778</a><br><a href=\"mailto:tigerguo@drmaster.com.tw\">tigerguo@drmaster.com.tw</a></td>\r\n",
      "        <td width=\"50%\"><font class=\"salesname\">汪 玉 鳳</font> <a href=\"images/contact/DrMaster_carlo_LINE.jpg\" target=\"_blank\"><img src=\"images/contact/unnamed.png\" width=\"30\" height=\"30\" style=\"vertical-align:middle;\" /></a><br>LINE ID：<a href=\"https://line.me/ti/p/oHqpsUOj_s\">0925177716</a><br><a href=\"tel:+886-925177716\">0925-177716</a><br><a href=\"mailto:carlo@drmaster.com.tw\">carlo@drmaster.com.tw</a></td>\r\n",
      "      </tr>\r\n",
      "      <tr>\r\n",
      "        <td colspan=\"2\">助理分機 519</td>\r\n",
      "      </tr>\r\n",
      "    </table>\r\n",
      "    </td>\r\n",
      "    <td width=\"350\" class=\"title01\">新竹、苗栗、台中、彰化、南投、雲林<br><font class=\"salesname\">林 世 昌</font> <a href=\"images/contact/DrMaster_Rick_LINE.jpg\" target=\"_blank\"><img src=\"images/contact/unnamed.png\" width=\"30\" height=\"30\" style=\"vertical-align:middle;\" /></a><br>LINE ID：<a href=\"https://line.me/ti/p/-5Fdr6JjYb\">0925275775</a><br><a href=\"tel:+886-925275775\">0925-275775</a><br><a href=\"mailto:rick@drmaster.com.tw\">rick@drmaster.com.tw</a> <br>助理分機 519</td>\r\n",
      "    <td width=\"350\" class=\"title01\">嘉義、台南、高雄、屏東、台東<br><font class=\"salesname\">林 月 玲</font> <a href=\"images/contact/DrMaster_Dony_LINE.jpg\" target=\"_blank\"><img src=\"images/contact/unnamed.png\" width=\"30\" height=\"30\" style=\"vertical-align:middle;\" /></a><br>LINE ID：<a href=\"https://line.me/ti/p/pduzOu-IrK\">0926858627</a><br><a href=\"tel:+886-926858627\">0926-858627</a><br><a href=\"mailto:donylin@drmaster.com.tw\">donylin@drmaster.com.tw</a> <br>助理分機 238</td>\r\n",
      "  </tr>\r\n",
      "  <tr>\r\n",
      "    <td colspan=\"3\" >&nbsp;</td>\r\n",
      "  </tr>\r\n",
      "  <tr class=\"bg-gradiant\">\r\n",
      "    <td colspan=\"3\">MOCC 認證小組</td>\r\n",
      "  </tr>\r\n",
      "  <tr>\r\n",
      "    <td colspan=\"3\" >&nbsp;</td>\r\n",
      "  </tr>\r\n",
      "  <tr>\r\n",
      "    <td colspan=\"3\" align=\"center\">\r\n",
      "    <table width=\"70%\" border=\"0\" cellpadding=\"0\" cellspacing=\"0\">\r\n",
      "      <!--<tr class=\"title02\">\r\n",
      "        <td width=\"5%\">&nbsp;</td>\r\n",
      "        <td width=\"20%\"><font class=\"salesname\">楊&nbsp;朝&nbsp;陽</font></td>\r\n",
      "        <td width=\"25%\"><a href=\"images/contact/DrMaster_Gary_LINE.jpg\" target=\"_blank\"><img src=\"images/contact/unnamed.png\" width=\"30\" height=\"30\" style=\"vertical-align:middle;\" /></a> ID：<a href=\"https://line.me/ti/p/a_emYaxGlu\">0925166653</a></td>\r\n",
      "        <td width=\"20%\"><a href=\"tel:+886-925166653\">0925-166653</a></td>\r\n",
      "        <td width=\"30%\"><a href=\"mailto:gary@drmaster.com.tw\">gary@drmaster.com.tw</a></td>\r\n",
      "      </tr>-->\r\n",
      "      <tr class=\"title02\">\r\n",
      "        <td>&nbsp;</td>\r\n",
      "        <td><font class=\"salesname\">林&nbsp;雯&nbsp;玲</font></td>\r\n",
      "        <td>電話：<a href=\"tel:+886-226962869\">02-2696-2869</a></td>\r\n",
      "        <td>分機：623</td>\r\n",
      "        <td><a href=\"mailto:software24@drmaster.com.tw\">software24@drmaster.com.tw</a></td>\r\n",
      "      </tr>\r\n",
      "    </table>\r\n",
      "    </td>\r\n",
      "  </tr>\r\n",
      "</table>\r\n",
      "\r\n",
      "<p>&nbsp;</p>\r\n",
      "<link href=\"SpryAssets/bottom.css\" rel=\"stylesheet\" type=\"text/css\" />\r\n",
      "<table width=\"1200\" border=\"0\" cellpadding=\"0\" cellspacing=\"0\" bgcolor=\"#3e3a39\">\r\n",
      "  <tr>\r\n",
      "    <td>&nbsp;</td>\r\n",
      "  </tr>\r\n",
      "  <tr>\r\n",
      "    <td height=\"28\" colspan=\"3\" background=\"images/Line_3e3a39.jpg\">&nbsp;</td>\r\n",
      "  </tr>\r\n",
      "  <tr>\r\n",
      "    <td colspan=\"3\" align=\"center\" class=\"style1\" >\r\n",
      "    <p>&nbsp;</p>\r\n",
      "    <p>博碩文化股份有限公司 DrMaster Press Co., Ltd.<br>\r\n",
      "    台灣新北市汐止區新台五路一段112號10樓A棟<br>\r\n",
      "    Building A, 10F, No.112, Xintai 5th Rd., Sec.1,Xizhi Dist., New Taipei City 221, Taiwan<br>\r\n",
      "    Tel：02-2696-2869　Fax：02-2696-2867　劃撥帳號：17484299</p>\r\n",
      "    <p>Copyright&copy; DrMaster Press Co., Ltd. All Rights Reserved.</p>\r\n",
      "    <P>&nbsp;</P>\r\n",
      "    </td>\r\n",
      "  </tr>\r\n",
      "</table>\r\n",
      "\r\n",
      "</td>\r\n",
      "  </tr>\r\n",
      "</table>\r\n",
      "</body>\r\n",
      "</html>\r\n",
      "\n"
     ]
    }
   ],
   "source": [
    "# %load htmlparse02.py\n",
    "import requests\n",
    "urlstr = \"http://www.drmaster.com.tw/Publish_Newbook.asp\"\n",
    "response = requests.get(urlstr)\n",
    "response.encoding = \"utf-8\"\n",
    "print(\"網頁程式碼：%s\" % (response.text))"
   ]
  },
  {
   "cell_type": "markdown",
   "metadata": {},
   "source": [
    "## htmlparse03.py"
   ]
  },
  {
   "cell_type": "code",
   "execution_count": 3,
   "metadata": {},
   "outputs": [
    {
     "name": "stdout",
     "output_type": "stream",
     "text": [
      "MP22030.png 下載完畢\n"
     ]
    }
   ],
   "source": [
    "# %load htmlparse03.py\n",
    "import requests\n",
    "# 指定圖片網址\n",
    "imgUrl = 'http://www.drmaster.com.tw/Cover/MP22030.png'\n",
    "imgName = imgUrl.split('/')[-1]\n",
    "response = requests.get(imgUrl)\n",
    "f = open(imgName, 'wb')  # 指定開啟檔案路徑\n",
    "# 將response.content二進位內容寫入為MP22030.png\n",
    "f.write(response.content)\n",
    "print('%s 下載完畢' % (imgName))\n",
    "f.close()"
   ]
  },
  {
   "cell_type": "markdown",
   "metadata": {},
   "source": [
    "## htmlparse04.py\n"
   ]
  },
  {
   "cell_type": "code",
   "execution_count": 4,
   "metadata": {},
   "outputs": [
    {
     "name": "stdout",
     "output_type": "stream",
     "text": [
      "博碩文化股份有限公司"
     ]
    },
    {
     "name": "stdout",
     "output_type": "stream",
     "text": [
      "\n",
      "共 20 筆新書記錄\n",
      "Python程式設計實務-從入門到精通step by step\n",
      "Scrum敏捷產品管理：打造客戶喜愛的產品\n",
      "重新認識Vue.js：008天絕對看不完的Vue.js 3指南\n",
      "一開始就學對 Android－Kotlin 與 MVVM 新架構\n",
      "輕鬆學會Google TensorFlow 2人工智慧深度學習實作開發(第三版)\n",
      "PHP網路爬蟲開發：入門到進階的爬蟲技術指南（iT邦幫忙鐵人賽系列書）\n",
      "Kent Beck的測試驅動開發：案例導向的逐步解決之道\n",
      "Python全面攻略：從程式新人到開發設計的快速學習\n",
      "打造集客瘋潮的微電影行銷術：影音剪輯實戰×行動影音剪輯×特效處理×微電影實作×影音社群行銷 (暢銷回饋版)\n",
      "APCS大學程式設計先修檢測：C語言超效解題致勝祕笈(暢銷回饋版)\n",
      "PhotoShop影像處理設計\n",
      "Illustrator向量圖形設計\n",
      "C#程式設計從入門到專業(上)：完全剖析C#技術實務\n",
      "C#程式設計從入門到專業(下)：職場C#進階應用技術\n",
      "圖解資料結構－使用C++\n",
      "視覺化社群行銷與SEO超級淘金術：使用Instagram與YouTube\n",
      "LINE Bot by Python 全攻略：從Heroku到AWS跨平台實踐（iT邦幫忙鐵人賽系列書）\n",
      "超強Google雲端應用：贏家必勝技能與行銷方程式(暢銷回饋版)\n",
      "行動裝置深度學習\n",
      "圖說演算法：使用C語言(暢銷回饋版)\n"
     ]
    }
   ],
   "source": [
    "# %load htmlparse04.py\n",
    "import requests\n",
    "from bs4 import BeautifulSoup\n",
    "# 博碩文化新書網頁\n",
    "urlstr = 'http://www.drmaster.com.tw/Publish_Newbook.asp'\n",
    "response = requests.get(urlstr)\n",
    "response.encoding = \"utf-8\"\n",
    "bs = BeautifulSoup(response.text, 'html.parser')\n",
    "print(bs.title.text)  # 顯示網頁title標題\n",
    "listBookName = bs.select('.style2')\n",
    "count = len(listBookName)\n",
    "print(\"共 %d 筆新書記錄\" % (count))  # 顯示 '共 20 筆新書記錄'\n",
    "\n",
    "# 顯示網頁新書書名\n",
    "for book in listBookName:\n",
    "  print(book.text)"
   ]
  },
  {
   "cell_type": "markdown",
   "metadata": {},
   "source": [
    "## htmlparse05.py"
   ]
  },
  {
   "cell_type": "code",
   "execution_count": 5,
   "metadata": {},
   "outputs": [
    {
     "name": "stdout",
     "output_type": "stream",
     "text": [
      "images/index_01.jpg\n",
      "images/TopMenu-Gray-01.jpg\n",
      "images/TopMenu-Gray-02.jpg\n",
      "images/TopMenu-Gray-03.jpg\n",
      "images/TopMenu-Gray-05.jpg\n",
      "images/TopMenu-Gray-10.jpg\n",
      "images/TopMenu-Gray-08.jpg\n",
      "images/TopMenu-Gray-09.jpg\n",
      "http://www.drmaster.com.tw/Cover/MP32104.png\n",
      "http://www.drmaster.com.tw/Cover/MP12101.png\n",
      "http://www.drmaster.com.tw/Cover/MP22026.png\n",
      "http://www.drmaster.com.tw/Cover/MP22110.png\n",
      "http://www.drmaster.com.tw/Cover/MP22036.png\n",
      "http://www.drmaster.com.tw/Cover/MP22105.png\n",
      "http://www.drmaster.com.tw/Cover/MP12033.png\n",
      "http://www.drmaster.com.tw/Cover/MP32017.png\n",
      "http://www.drmaster.com.tw/Cover/MM32101.png\n",
      "http://www.drmaster.com.tw/Cover/MP22108.png\n",
      "http://www.drmaster.com.tw/Cover/MM32001.png\n",
      "http://www.drmaster.com.tw/Cover/MM32002.png\n",
      "http://www.drmaster.com.tw/Cover/MP22028.png\n",
      "http://www.drmaster.com.tw/Cover/MP22029.png\n",
      "http://www.drmaster.com.tw/Cover/MP32022.png\n",
      "http://www.drmaster.com.tw/Cover/MI22005.png\n",
      "http://www.drmaster.com.tw/Cover/MP22040.png\n",
      "http://www.drmaster.com.tw/Cover/MI22101.png\n",
      "http://www.drmaster.com.tw/Cover/MP12019.png\n",
      "http://www.drmaster.com.tw/Cover/MP22109.png\n",
      "images/contact/unnamed.png\n",
      "images/contact/unnamed.png\n",
      "images/contact/unnamed.png\n",
      "images/contact/unnamed.png\n"
     ]
    }
   ],
   "source": [
    "# %load htmlparse05.py\n",
    "import requests\n",
    "from bs4 import BeautifulSoup\n",
    "\n",
    "urlstr = 'http://www.drmaster.com.tw/Publish_Newbook.asp'\n",
    "\n",
    "response = requests.get(urlstr)\n",
    "response.encoding = \"utf-8\"\n",
    "bs = BeautifulSoup(response.text, 'html.parser')\n",
    "\n",
    "listImageUrl = bs.select('td a img')\n",
    "\n",
    "for link in listImageUrl:\n",
    "  #if(\"http\" in link.get('src')):\n",
    "  print(link.get('src'))"
   ]
  },
  {
   "cell_type": "markdown",
   "metadata": {},
   "source": [
    "## htmlparse06.py"
   ]
  },
  {
   "cell_type": "code",
   "execution_count": 6,
   "metadata": {},
   "outputs": [
    {
     "name": "stdout",
     "output_type": "stream",
     "text": [
      "MP32104.png 下載完成\n"
     ]
    },
    {
     "name": "stdout",
     "output_type": "stream",
     "text": [
      "MP12101.png 下載完成\n",
      "MP22026.png 下載完成\n"
     ]
    },
    {
     "name": "stdout",
     "output_type": "stream",
     "text": [
      "MP22110.png 下載完成\n"
     ]
    },
    {
     "name": "stdout",
     "output_type": "stream",
     "text": [
      "MP22036.png 下載完成\n",
      "MP22105.png 下載完成\n"
     ]
    },
    {
     "name": "stdout",
     "output_type": "stream",
     "text": [
      "MP12033.png 下載完成\n",
      "MP32017.png 下載完成\n"
     ]
    },
    {
     "name": "stdout",
     "output_type": "stream",
     "text": [
      "MM32101.png 下載完成\n"
     ]
    },
    {
     "name": "stdout",
     "output_type": "stream",
     "text": [
      "MP22108.png 下載完成\n"
     ]
    },
    {
     "name": "stdout",
     "output_type": "stream",
     "text": [
      "MM32001.png 下載完成\n"
     ]
    },
    {
     "name": "stdout",
     "output_type": "stream",
     "text": [
      "MM32002.png 下載完成\n",
      "MP22028.png 下載完成"
     ]
    },
    {
     "name": "stdout",
     "output_type": "stream",
     "text": [
      "\n",
      "MP22029.png 下載完成\n"
     ]
    },
    {
     "name": "stdout",
     "output_type": "stream",
     "text": [
      "MP32022.png 下載完成\n",
      "MI22005.png 下載完成\n"
     ]
    },
    {
     "name": "stdout",
     "output_type": "stream",
     "text": [
      "MP22040.png 下載完成\n"
     ]
    },
    {
     "name": "stdout",
     "output_type": "stream",
     "text": [
      "MI22101.png 下載完成\n",
      "MP12019.png 下載完成\n"
     ]
    },
    {
     "name": "stdout",
     "output_type": "stream",
     "text": [
      "MP22109.png 下載完成\n",
      "共下載 20 張圖檔\n"
     ]
    }
   ],
   "source": [
    "# %load htmlparse06.py\n",
    "import os, shutil\n",
    "import requests\n",
    "from bs4 import BeautifulSoup\n",
    "\n",
    "# 若程式的路徑有images資料即刪除，否則即建立images\n",
    "folder = \"images\"\n",
    "if os.path.exists(folder):\n",
    "  shutil.rmtree(folder)\n",
    "os.mkdir(folder)\n",
    "\n",
    "urlstr = 'http://www.drmaster.com.tw/Publish_Newbook.asp'\n",
    "response = requests.get(urlstr)\n",
    "response.encoding = \"utf-8\"\n",
    "bs = BeautifulSoup(response.text, 'html.parser')\n",
    "listImageUrl = bs.select('td a img')\n",
    "# 逐一取得博碩新書圖檔並放入images資料夾下\n",
    "n = 0\n",
    "for link in listImageUrl:\n",
    "  imgUrl = link.get('src')\n",
    "  if (\"http\" in imgUrl):\n",
    "    imgName = imgUrl.split('/')[-1]\n",
    "    response = requests.get(imgUrl)\n",
    "    f = open(folder + '/' + imgName, 'wb')  # 指定開啟檔案路徑\n",
    "    # 將response.content二進位內容寫入指定的圖檔名稱\n",
    "    f.write(response.content)\n",
    "    f.close()\n",
    "    print(\"%s 下載完成\" % (imgName))\n",
    "    n += 1\n",
    "print('共下載 %d 張圖檔' % (n))"
   ]
  },
  {
   "cell_type": "markdown",
   "metadata": {},
   "source": [
    "## htmlparse07.py"
   ]
  },
  {
   "cell_type": "code",
   "execution_count": 7,
   "metadata": {},
   "outputs": [
    {
     "name": "stdout",
     "output_type": "stream",
     "text": [
      "MP32104.png 下載完成\n"
     ]
    },
    {
     "name": "stdout",
     "output_type": "stream",
     "text": [
      "MP12101.png 下載完成\n",
      "MP22026.png 下載完成\n"
     ]
    },
    {
     "name": "stdout",
     "output_type": "stream",
     "text": [
      "MP22110.png 下載完成\n"
     ]
    },
    {
     "name": "stdout",
     "output_type": "stream",
     "text": [
      "MP22036.png 下載完成\n"
     ]
    },
    {
     "name": "stdout",
     "output_type": "stream",
     "text": [
      "MP22105.png 下載完成\n"
     ]
    },
    {
     "name": "stdout",
     "output_type": "stream",
     "text": [
      "MP12033.png 下載完成\n"
     ]
    },
    {
     "name": "stdout",
     "output_type": "stream",
     "text": [
      "MP32017.png 下載完成\n"
     ]
    },
    {
     "name": "stdout",
     "output_type": "stream",
     "text": [
      "MM32101.png 下載完成\n"
     ]
    },
    {
     "name": "stdout",
     "output_type": "stream",
     "text": [
      "MP22108.png 下載完成\n"
     ]
    },
    {
     "name": "stdout",
     "output_type": "stream",
     "text": [
      "MM32001.png 下載完成\n"
     ]
    },
    {
     "name": "stdout",
     "output_type": "stream",
     "text": [
      "MM32002.png 下載完成\n"
     ]
    },
    {
     "name": "stdout",
     "output_type": "stream",
     "text": [
      "MP22028.png 下載完成\n",
      "MP22029.png 下載完成\n"
     ]
    },
    {
     "name": "stdout",
     "output_type": "stream",
     "text": [
      "MP32022.png 下載完成\n",
      "MI22005.png 下載完成\n"
     ]
    },
    {
     "name": "stdout",
     "output_type": "stream",
     "text": [
      "MP22040.png 下載完成\n"
     ]
    },
    {
     "name": "stdout",
     "output_type": "stream",
     "text": [
      "MI22101.png 下載完成\n",
      "MP12019.png 下載完成\n",
      "MP22109.png 下載完成\n"
     ]
    },
    {
     "name": "stdout",
     "output_type": "stream",
     "text": [
      "newbook.html 網頁建置成功\n"
     ]
    }
   ],
   "source": [
    "# %load htmlparse07.py\n",
    "import os, shutil\n",
    "import requests\n",
    "from bs4 import BeautifulSoup\n",
    "\n",
    "# 若程式的路徑有images資料即刪除，否則即建立images\n",
    "folder = \"images\"\n",
    "if os.path.exists(folder):\n",
    "  shutil.rmtree(folder)\n",
    "os.mkdir(folder)\n",
    "pageName = 'newbook.html'\n",
    "if os.path.exists(pageName):\n",
    "  os.remove(pageName)\n",
    "\n",
    "urlstr = 'http://www.drmaster.com.tw/Publish_Newbook.asp'\n",
    "response = requests.get(urlstr)\n",
    "response.encoding = \"utf-8\"\n",
    "bs = BeautifulSoup(response.text, 'html.parser')\n",
    "listImageUrl = bs.select('td a img')\n",
    "listImageUrlOk = []\n",
    "listBookName = bs.select('.style2')\n",
    "# 逐一取得博碩新書圖檔並放入images資料夾下\n",
    "for link in listImageUrl:\n",
    "  imgUrl = link.get('src')\n",
    "  if (\"http\" in imgUrl):\n",
    "    imgName = imgUrl.split('/')[-1]\n",
    "    listImageUrlOk.append(imgName)\n",
    "    response = requests.get(imgUrl)\n",
    "    f = open(folder + '/' + imgName, 'wb')  # 指定開啟檔案路徑\n",
    "    # 將response.content二進位內容寫入指定的圖檔名稱\n",
    "    f.write(response.content)\n",
    "    f.close()\n",
    "    print(\"%s 下載完成\" % (imgName))\n",
    "\n",
    "f = open(pageName, 'w', encoding='utf-8')\n",
    "f.write('<html>\\n')\n",
    "f.write('<meta charset=\"utf-8\">\\n')\n",
    "f.write('<body>\\n')\n",
    "f.write('<table border>\\n')\n",
    "f.write('<tr><td>書號</td><td>圖</td><td>書名</td></tr>\\n')\n",
    "for n in range(len(listBookName)):\n",
    "  f.write('<tr>\\n')\n",
    "  f.write('<td>%s</td>\\n' % (listImageUrlOk[n].split('.')[0]))\n",
    "  f.write('<td><img src=\"images/%s\" width=\"100\"></td>\\n' % (listImageUrlOk[n]))\n",
    "  f.write('<td>%s</td>\\n' % (listBookName[n].text))\n",
    "  f.write('</tr>\\n')\n",
    "f.write('</table>\\n')\n",
    "f.write('</body>\\n')\n",
    "f.write('</html>\\n')\n",
    "f.close()\n",
    "os.system(pageName)\n",
    "print('%s 網頁建置成功' % (pageName))"
   ]
  }
 ],
 "metadata": {
  "kernelspec": {
   "display_name": "Python 3",
   "language": "python",
   "name": "python3"
  },
  "language_info": {
   "codemirror_mode": {
    "name": "ipython",
    "version": 3
   },
   "file_extension": ".py",
   "mimetype": "text/x-python",
   "name": "python",
   "nbconvert_exporter": "python",
   "pygments_lexer": "ipython3",
   "version": "3.7.8"
  },
  "toc": {
   "base_numbering": 1,
   "nav_menu": {},
   "number_sections": true,
   "sideBar": true,
   "skip_h1_title": false,
   "title_cell": "Table of Contents",
   "title_sidebar": "Contents",
   "toc_cell": false,
   "toc_position": {},
   "toc_section_display": true,
   "toc_window_display": false
  },
  "varInspector": {
   "cols": {
    "lenName": 16,
    "lenType": 16,
    "lenVar": 40
   },
   "kernels_config": {
    "python": {
     "delete_cmd_postfix": "",
     "delete_cmd_prefix": "del ",
     "library": "var_list.py",
     "varRefreshCmd": "print(var_dic_list())"
    },
    "r": {
     "delete_cmd_postfix": ") ",
     "delete_cmd_prefix": "rm(",
     "library": "var_list.r",
     "varRefreshCmd": "cat(var_dic_list()) "
    }
   },
   "types_to_exclude": [
    "module",
    "function",
    "builtin_function_or_method",
    "instance",
    "_Feature"
   ],
   "window_display": false
  }
 },
 "nbformat": 4,
 "nbformat_minor": 4
}