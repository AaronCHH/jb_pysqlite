{
 "cells": [
  {
   "cell_type": "markdown",
   "metadata": {},
   "source": [
    "# 使用 sqlite3 模組管理 SQLite 資料庫"
   ]
  },
  {
   "cell_type": "markdown",
   "metadata": {},
   "source": [
    "{cite}`Python程式設計_2016`"
   ]
  },
  {
   "cell_type": "code",
   "execution_count": 1,
   "metadata": {},
   "outputs": [
    {
     "ename": "IntegrityError",
     "evalue": "UNIQUE constraint failed: stu.stuid",
     "output_type": "error",
     "traceback": [
      "\u001b[1;31m---------------------------------------------------------------------------\u001b[0m",
      "\u001b[1;31mIntegrityError\u001b[0m                            Traceback (most recent call last)",
      "\u001b[1;32m<ipython-input-1-e2c4d8cf028e>\u001b[0m in \u001b[0;36m<module>\u001b[1;34m\u001b[0m\n\u001b[0;32m     13\u001b[0m \u001b[1;33m\u001b[0m\u001b[0m\n\u001b[0;32m     14\u001b[0m \u001b[0msql2\u001b[0m \u001b[1;33m=\u001b[0m \u001b[1;34m\"INSERT INTO stu VALUES (104001,'Claire','B342222','1245667')\"\u001b[0m\u001b[1;33m\u001b[0m\u001b[1;33m\u001b[0m\u001b[0m\n\u001b[1;32m---> 15\u001b[1;33m \u001b[0mcur\u001b[0m\u001b[1;33m.\u001b[0m\u001b[0mexecute\u001b[0m\u001b[1;33m(\u001b[0m\u001b[0msql2\u001b[0m\u001b[1;33m)\u001b[0m\u001b[1;33m\u001b[0m\u001b[1;33m\u001b[0m\u001b[0m\n\u001b[0m\u001b[0;32m     16\u001b[0m \u001b[1;33m\u001b[0m\u001b[0m\n\u001b[0;32m     17\u001b[0m \u001b[0mrecord\u001b[0m \u001b[1;33m=\u001b[0m \u001b[1;33m(\u001b[0m\u001b[1;36m104002\u001b[0m\u001b[1;33m,\u001b[0m \u001b[1;34m'Marry'\u001b[0m\u001b[1;33m,\u001b[0m \u001b[1;34m'B342223'\u001b[0m\u001b[1;33m,\u001b[0m \u001b[1;34m'1245668'\u001b[0m\u001b[1;33m)\u001b[0m\u001b[1;33m\u001b[0m\u001b[1;33m\u001b[0m\u001b[0m\n",
      "\u001b[1;31mIntegrityError\u001b[0m: UNIQUE constraint failed: stu.stuid"
     ]
    }
   ],
   "source": [
    "import sqlite3\n",
    "con = sqlite3.connect('school.db')\n",
    "cur = con.cursor()\n",
    "\n",
    "# cur.execute('DROP TABLE stu')\n",
    "\n",
    "sql1 = '''CREATE TABLE IF NOT EXISTS stu ( \n",
    "        stuid   INTEGER       PRIMARY KEY, \n",
    "        name   VARCHAR(50)   not null, \n",
    "        pid     VARCHAR(20)   not null, \n",
    "        phone   VARCHAR(20)   not null)'''\n",
    "cur.execute(sql1)\n",
    "\n",
    "sql2 = \"INSERT INTO stu VALUES (104001,'Claire','B342222','1245667')\"\n",
    "cur.execute(sql2)\n",
    "\n",
    "record = (104002, 'Marry', 'B342223', '1245668')\n",
    "sql3 = 'INSERT INTO stu VALUES(?,?,?,?)'\n",
    "cur.execute(sql3, record)\n",
    "\n",
    "cur.execute('SELECT * FROM stu')\n",
    "rows = cur.fetchall()\n",
    "\n",
    "print(rows)\n",
    "con.commit()\n",
    "con.close()"
   ]
  },
  {
   "cell_type": "code",
   "execution_count": null,
   "metadata": {},
   "outputs": [],
   "source": []
  }
 ],
 "metadata": {
  "kernelspec": {
   "display_name": "Python 3",
   "language": "python",
   "name": "python3"
  },
  "language_info": {
   "codemirror_mode": {
    "name": "ipython",
    "version": 3
   },
   "file_extension": ".py",
   "mimetype": "text/x-python",
   "name": "python",
   "nbconvert_exporter": "python",
   "pygments_lexer": "ipython3",
   "version": "3.7.8"
  },
  "toc": {
   "base_numbering": 1,
   "nav_menu": {},
   "number_sections": true,
   "sideBar": true,
   "skip_h1_title": false,
   "title_cell": "Table of Contents",
   "title_sidebar": "Contents",
   "toc_cell": false,
   "toc_position": {},
   "toc_section_display": true,
   "toc_window_display": false
  },
  "varInspector": {
   "cols": {
    "lenName": 16,
    "lenType": 16,
    "lenVar": 40
   },
   "kernels_config": {
    "python": {
     "delete_cmd_postfix": "",
     "delete_cmd_prefix": "del ",
     "library": "var_list.py",
     "varRefreshCmd": "print(var_dic_list())"
    },
    "r": {
     "delete_cmd_postfix": ") ",
     "delete_cmd_prefix": "rm(",
     "library": "var_list.r",
     "varRefreshCmd": "cat(var_dic_list()) "
    }
   },
   "types_to_exclude": [
    "module",
    "function",
    "builtin_function_or_method",
    "instance",
    "_Feature"
   ],
   "window_display": false
  }
 },
 "nbformat": 4,
 "nbformat_minor": 4
}