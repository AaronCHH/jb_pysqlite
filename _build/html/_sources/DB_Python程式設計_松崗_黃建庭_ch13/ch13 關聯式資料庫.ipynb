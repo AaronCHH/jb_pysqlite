{
 "cells": [
  {
   "cell_type": "markdown",
   "metadata": {},
   "source": [
    "# Ch13 使用 sqlite3 模組管理 SQLite 資料庫"
   ]
  },
  {
   "cell_type": "markdown",
   "metadata": {},
   "source": [
    "{cite}`Python程式設計_2016`"
   ]
  },
  {
   "cell_type": "code",
   "execution_count": 1,
   "metadata": {},
   "outputs": [
    {
     "name": "stdout",
     "output_type": "stream",
     "text": [
      "[(104001, 'Claire', 'B342222', '1245667'), (104002, 'Marry', 'B342223', '1245668')]\n"
     ]
    }
   ],
   "source": [
    "import sqlite3\n",
    "con = sqlite3.connect('school.db')\n",
    "cur = con.cursor()\n",
    "\n",
    "# cur.execute('DROP TABLE stu')\n",
    "\n",
    "sql1 = '''CREATE TABLE IF NOT EXISTS stu ( \n",
    "        stuid   INTEGER       PRIMARY KEY, \n",
    "        name   VARCHAR(50)   not null, \n",
    "        pid     VARCHAR(20)   not null, \n",
    "        phone   VARCHAR(20)   not null)'''\n",
    "cur.execute(sql1)\n",
    "\n",
    "sql2 = \"INSERT INTO stu VALUES (104001,'Claire','B342222','1245667')\"\n",
    "cur.execute(sql2)\n",
    "\n",
    "record = (104002, 'Marry', 'B342223', '1245668')\n",
    "sql3 = 'INSERT INTO stu VALUES(?,?,?,?)'\n",
    "cur.execute(sql3, record)\n",
    "\n",
    "cur.execute('SELECT * FROM stu')\n",
    "rows = cur.fetchall()\n",
    "\n",
    "print(rows)\n",
    "con.commit()\n",
    "con.close()"
   ]
  },
  {
   "cell_type": "code",
   "execution_count": null,
   "metadata": {},
   "outputs": [],
   "source": []
  }
 ],
 "metadata": {
  "kernelspec": {
   "display_name": "Python 3",
   "language": "python",
   "name": "python3"
  },
  "language_info": {
   "codemirror_mode": {
    "name": "ipython",
    "version": 3
   },
   "file_extension": ".py",
   "mimetype": "text/x-python",
   "name": "python",
   "nbconvert_exporter": "python",
   "pygments_lexer": "ipython3",
   "version": "3.8.3"
  },
  "toc": {
   "base_numbering": 1,
   "nav_menu": {},
   "number_sections": true,
   "sideBar": true,
   "skip_h1_title": false,
   "title_cell": "Table of Contents",
   "title_sidebar": "Contents",
   "toc_cell": false,
   "toc_position": {},
   "toc_section_display": true,
   "toc_window_display": false
  },
  "varInspector": {
   "cols": {
    "lenName": 16,
    "lenType": 16,
    "lenVar": 40
   },
   "kernels_config": {
    "python": {
     "delete_cmd_postfix": "",
     "delete_cmd_prefix": "del ",
     "library": "var_list.py",
     "varRefreshCmd": "print(var_dic_list())"
    },
    "r": {
     "delete_cmd_postfix": ") ",
     "delete_cmd_prefix": "rm(",
     "library": "var_list.r",
     "varRefreshCmd": "cat(var_dic_list()) "
    }
   },
   "types_to_exclude": [
    "module",
    "function",
    "builtin_function_or_method",
    "instance",
    "_Feature"
   ],
   "window_display": false
  }
 },
 "nbformat": 4,
 "nbformat_minor": 4
}
